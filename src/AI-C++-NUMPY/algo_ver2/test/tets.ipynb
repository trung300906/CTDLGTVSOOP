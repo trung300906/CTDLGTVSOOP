{
 "cells": [
  {
   "cell_type": "code",
   "execution_count": 3,
   "metadata": {},
   "outputs": [
    {
     "name": "stdout",
     "output_type": "stream",
     "text": [
      "[[0.63924124 0.42419447 0.24163499]\n",
      " [0.55068675 0.49410185 0.49379673]\n",
      " [0.4283553  0.25142778 0.8651299 ]]\n",
      "[[0.99080348 0.22955687 0.74183123]\n",
      " [0.13211434 0.2845991  0.56878281]\n",
      " [0.94917233 0.15622864 0.59631434]]\n",
      "[[0.6451746  1.84788406 0.32572771]\n",
      " [4.1682587  1.73613285 0.86816394]\n",
      " [0.45129349 1.6093578  1.45079506]]\n"
     ]
    }
   ],
   "source": [
    "import numpy as np \n",
    "A = np.random.rand(3,3)\n",
    "B = np.random.rand(3,3)\n",
    "print(A)\n",
    "print(B)\n",
    "C = A/B \n",
    "print(C)"
   ]
  },
  {
   "cell_type": "code",
   "execution_count": 4,
   "metadata": {},
   "outputs": [
    {
     "name": "stdout",
     "output_type": "stream",
     "text": [
      "[[2.59728696e-01 5.46204598e-01 7.75384687e-01]\n",
      " [7.61677832e-01 8.48432121e-01 5.78860112e-05]\n",
      " [8.20857832e-01 3.93818908e-01 8.78562085e-01]]\n",
      "[[2.2597287  2.5462046  2.77538469]\n",
      " [2.76167783 2.84843212 2.00005789]\n",
      " [2.82085783 2.39381891 2.87856209]]\n"
     ]
    }
   ],
   "source": [
    "import numpy as np \n",
    "A = np.random.rand(3,3)\n",
    "print(A)\n",
    "print(A+2)"
   ]
  }
 ],
 "metadata": {
  "kernelspec": {
   "display_name": "Python 3",
   "language": "python",
   "name": "python3"
  },
  "language_info": {
   "codemirror_mode": {
    "name": "ipython",
    "version": 3
   },
   "file_extension": ".py",
   "mimetype": "text/x-python",
   "name": "python",
   "nbconvert_exporter": "python",
   "pygments_lexer": "ipython3",
   "version": "3.13.2"
  }
 },
 "nbformat": 4,
 "nbformat_minor": 2
}

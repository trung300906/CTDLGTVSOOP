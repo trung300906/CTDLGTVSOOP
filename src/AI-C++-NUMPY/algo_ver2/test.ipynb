{
 "cells": [
  {
   "cell_type": "code",
   "execution_count": 14,
   "metadata": {},
   "outputs": [
    {
     "name": "stdout",
     "output_type": "stream",
     "text": [
      "[[[[14 32]\n",
      "   [14 32]]\n",
      "\n",
      "  [[32 77]\n",
      "   [32 77]]]\n",
      "\n",
      "\n",
      " [[[14 32]\n",
      "   [14 32]]\n",
      "\n",
      "  [[32 77]\n",
      "   [32 77]]]]\n",
      "(2, 2, 3)\n",
      "(2, 2, 3)\n",
      "(2, 2, 2, 2)\n"
     ]
    }
   ],
   "source": [
    "import numpy as np\n",
    "A = np.array([[[1,2,3],[4,5,6]],[[1,2,3],[4,5,6]]])\n",
    "B = np.array([[[1,2,3],[4,5,6]],[[1,2,3],[4,5,6]]])\n",
    "C = np.tensordot(A, B , axes = ([2],[2]))\n",
    "print(C)\n",
    "print(A.shape)\n",
    "print(B.shape)\n",
    "print(C.shape)"
   ]
  },
  {
   "cell_type": "code",
   "execution_count": 1,
   "metadata": {},
   "outputs": [
    {
     "name": "stdout",
     "output_type": "stream",
     "text": [
      "anhxinluibemo ;-;\n",
      "anhxinluibemo ;-;\n",
      "anhxinluibemo ;-;\n",
      "anhxinluibemo ;-;\n",
      "anhxinluibemo ;-;\n",
      "anhxinluibemo ;-;\n",
      "anhxinluibemo ;-;\n",
      "anhxinluibemo ;-;\n",
      "anhxinluibemo ;-;\n",
      "anhxinluibemo ;-;\n",
      "anhxinluibemo ;-;\n",
      "anhxinluibemo ;-;\n",
      "anhxinluibemo ;-;\n",
      "anhxinluibemo ;-;\n",
      "anhxinluibemo ;-;\n",
      "anhxinluibemo ;-;\n",
      "anhxinluibemo ;-;\n",
      "anhxinluibemo ;-;\n",
      "anhxinluibemo ;-;\n",
      "anhxinluibemo ;-;\n",
      "anhxinluibemo ;-;\n",
      "anhxinluibemo ;-;\n",
      "anhxinluibemo ;-;\n",
      "anhxinluibemo ;-;\n",
      "anhxinluibemo ;-;\n",
      "anhxinluibemo ;-;\n",
      "anhxinluibemo ;-;\n",
      "anhxinluibemo ;-;\n",
      "anhxinluibemo ;-;\n",
      "anhxinluibemo ;-;\n",
      "anhxinluibemo ;-;\n",
      "anhxinluibemo ;-;\n",
      "anhxinluibemo ;-;\n",
      "anhxinluibemo ;-;\n",
      "anhxinluibemo ;-;\n",
      "anhxinluibemo ;-;\n",
      "anhxinluibemo ;-;\n",
      "anhxinluibemo ;-;\n",
      "anhxinluibemo ;-;\n",
      "anhxinluibemo ;-;\n",
      "anhxinluibemo ;-;\n",
      "anhxinluibemo ;-;\n",
      "anhxinluibemo ;-;\n",
      "anhxinluibemo ;-;\n",
      "anhxinluibemo ;-;\n",
      "anhxinluibemo ;-;\n",
      "anhxinluibemo ;-;\n",
      "anhxinluibemo ;-;\n",
      "anhxinluibemo ;-;\n",
      "anhxinluibemo ;-;\n"
     ]
    }
   ],
   "source": [
    "for i in range(50):\n",
    "    print(\"anhxinluibemo ;-;\")"
   ]
  }
 ],
 "metadata": {
  "kernelspec": {
   "display_name": "Python 3",
   "language": "python",
   "name": "python3"
  },
  "language_info": {
   "codemirror_mode": {
    "name": "ipython",
    "version": 3
   },
   "file_extension": ".py",
   "mimetype": "text/x-python",
   "name": "python",
   "nbconvert_exporter": "python",
   "pygments_lexer": "ipython3",
   "version": "3.13.1"
  }
 },
 "nbformat": 4,
 "nbformat_minor": 2
}
